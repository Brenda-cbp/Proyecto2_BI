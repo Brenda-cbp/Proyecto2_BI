{
 "cells": [
  {
   "cell_type": "markdown",
   "id": "d4762ff0",
   "metadata": {},
   "source": [
    "### Sofía Álvarez, Brenda Barahona, Álvaro Plata\n",
    "<h1 align='center'> Proyecto Infraestructura visible </h1>"
   ]
  },
  {
   "cell_type": "markdown",
   "id": "9b3df809",
   "metadata": {},
   "source": [
    "## Imports"
   ]
  },
  {
   "cell_type": "code",
   "execution_count": null,
   "id": "da84d779",
   "metadata": {},
   "outputs": [],
   "source": [
    "# Se importan las librerías y dependencias necesarias para la ejecución del notebook\n",
    "import numpy as np\n",
    "import pandas as pd\n",
    "import matplotlib as plt\n"
   ]
  },
  {
   "cell_type": "code",
   "execution_count": 15,
   "id": "02ae9722",
   "metadata": {},
   "outputs": [
    {
     "ename": "ImportError",
     "evalue": "cannot import name 'escape' from 'jinja2.utils' (C:\\Users\\brend\\AppData\\Roaming\\Python\\Python38\\site-packages\\jinja2\\utils.py)",
     "output_type": "error",
     "traceback": [
      "\u001b[1;31m---------------------------------------------------------------------------\u001b[0m",
      "\u001b[1;31mImportError\u001b[0m                               Traceback (most recent call last)",
      "\u001b[1;32m<ipython-input-15-e2a33329b6f0>\u001b[0m in \u001b[0;36m<module>\u001b[1;34m\u001b[0m\n\u001b[1;32m----> 1\u001b[1;33m \u001b[1;32mfrom\u001b[0m \u001b[0mpandas_profiling\u001b[0m \u001b[1;32mimport\u001b[0m \u001b[0mProfileReport\u001b[0m\u001b[1;33m\u001b[0m\u001b[1;33m\u001b[0m\u001b[0m\n\u001b[0m",
      "\u001b[1;32m~\\anaconda3\\lib\\site-packages\\pandas_profiling\\__init__.py\u001b[0m in \u001b[0;36m<module>\u001b[1;34m\u001b[0m\n\u001b[0;32m      5\u001b[0m \u001b[1;33m\u001b[0m\u001b[0m\n\u001b[0;32m      6\u001b[0m \u001b[1;32mfrom\u001b[0m \u001b[0mpandas_profiling\u001b[0m\u001b[1;33m.\u001b[0m\u001b[0mconfig\u001b[0m \u001b[1;32mimport\u001b[0m \u001b[0mConfig\u001b[0m\u001b[1;33m,\u001b[0m \u001b[0mconfig\u001b[0m\u001b[1;33m\u001b[0m\u001b[1;33m\u001b[0m\u001b[0m\n\u001b[1;32m----> 7\u001b[1;33m \u001b[1;32mfrom\u001b[0m \u001b[0mpandas_profiling\u001b[0m\u001b[1;33m.\u001b[0m\u001b[0mcontroller\u001b[0m \u001b[1;32mimport\u001b[0m \u001b[0mpandas_decorator\u001b[0m\u001b[1;33m\u001b[0m\u001b[1;33m\u001b[0m\u001b[0m\n\u001b[0m\u001b[0;32m      8\u001b[0m \u001b[1;32mfrom\u001b[0m \u001b[0mpandas_profiling\u001b[0m\u001b[1;33m.\u001b[0m\u001b[0mprofile_report\u001b[0m \u001b[1;32mimport\u001b[0m \u001b[0mProfileReport\u001b[0m\u001b[1;33m\u001b[0m\u001b[1;33m\u001b[0m\u001b[0m\n\u001b[0;32m      9\u001b[0m \u001b[1;32mfrom\u001b[0m \u001b[0mpandas_profiling\u001b[0m\u001b[1;33m.\u001b[0m\u001b[0mversion\u001b[0m \u001b[1;32mimport\u001b[0m \u001b[0m__version__\u001b[0m\u001b[1;33m\u001b[0m\u001b[1;33m\u001b[0m\u001b[0m\n",
      "\u001b[1;32m~\\anaconda3\\lib\\site-packages\\pandas_profiling\\controller\\pandas_decorator.py\u001b[0m in \u001b[0;36m<module>\u001b[1;34m\u001b[0m\n\u001b[0;32m      2\u001b[0m \u001b[1;32mfrom\u001b[0m \u001b[0mpandas\u001b[0m \u001b[1;32mimport\u001b[0m \u001b[0mDataFrame\u001b[0m\u001b[1;33m\u001b[0m\u001b[1;33m\u001b[0m\u001b[0m\n\u001b[0;32m      3\u001b[0m \u001b[1;33m\u001b[0m\u001b[0m\n\u001b[1;32m----> 4\u001b[1;33m \u001b[1;32mfrom\u001b[0m \u001b[0mpandas_profiling\u001b[0m\u001b[1;33m.\u001b[0m\u001b[0m__init__\u001b[0m \u001b[1;32mimport\u001b[0m \u001b[0mProfileReport\u001b[0m\u001b[1;33m\u001b[0m\u001b[1;33m\u001b[0m\u001b[0m\n\u001b[0m\u001b[0;32m      5\u001b[0m \u001b[1;33m\u001b[0m\u001b[0m\n\u001b[0;32m      6\u001b[0m \u001b[1;33m\u001b[0m\u001b[0m\n",
      "\u001b[1;32m~\\anaconda3\\lib\\site-packages\\pandas_profiling\\__init__.py\u001b[0m in \u001b[0;36m<module>\u001b[1;34m\u001b[0m\n\u001b[0;32m      6\u001b[0m \u001b[1;32mfrom\u001b[0m \u001b[0mpandas_profiling\u001b[0m\u001b[1;33m.\u001b[0m\u001b[0mconfig\u001b[0m \u001b[1;32mimport\u001b[0m \u001b[0mConfig\u001b[0m\u001b[1;33m,\u001b[0m \u001b[0mconfig\u001b[0m\u001b[1;33m\u001b[0m\u001b[1;33m\u001b[0m\u001b[0m\n\u001b[0;32m      7\u001b[0m \u001b[1;32mfrom\u001b[0m \u001b[0mpandas_profiling\u001b[0m\u001b[1;33m.\u001b[0m\u001b[0mcontroller\u001b[0m \u001b[1;32mimport\u001b[0m \u001b[0mpandas_decorator\u001b[0m\u001b[1;33m\u001b[0m\u001b[1;33m\u001b[0m\u001b[0m\n\u001b[1;32m----> 8\u001b[1;33m \u001b[1;32mfrom\u001b[0m \u001b[0mpandas_profiling\u001b[0m\u001b[1;33m.\u001b[0m\u001b[0mprofile_report\u001b[0m \u001b[1;32mimport\u001b[0m \u001b[0mProfileReport\u001b[0m\u001b[1;33m\u001b[0m\u001b[1;33m\u001b[0m\u001b[0m\n\u001b[0m\u001b[0;32m      9\u001b[0m \u001b[1;32mfrom\u001b[0m \u001b[0mpandas_profiling\u001b[0m\u001b[1;33m.\u001b[0m\u001b[0mversion\u001b[0m \u001b[1;32mimport\u001b[0m \u001b[0m__version__\u001b[0m\u001b[1;33m\u001b[0m\u001b[1;33m\u001b[0m\u001b[0m\n\u001b[0;32m     10\u001b[0m \u001b[1;33m\u001b[0m\u001b[0m\n",
      "\u001b[1;32m~\\anaconda3\\lib\\site-packages\\pandas_profiling\\profile_report.py\u001b[0m in \u001b[0;36m<module>\u001b[1;34m\u001b[0m\n\u001b[0;32m     11\u001b[0m \u001b[1;32mfrom\u001b[0m \u001b[0mpandas_profiling\u001b[0m\u001b[1;33m.\u001b[0m\u001b[0mmodel\u001b[0m\u001b[1;33m.\u001b[0m\u001b[0mdescribe\u001b[0m \u001b[1;32mimport\u001b[0m \u001b[0mdescribe\u001b[0m \u001b[1;32mas\u001b[0m \u001b[0mdescribe_df\u001b[0m\u001b[1;33m\u001b[0m\u001b[1;33m\u001b[0m\u001b[0m\n\u001b[0;32m     12\u001b[0m \u001b[1;32mfrom\u001b[0m \u001b[0mpandas_profiling\u001b[0m\u001b[1;33m.\u001b[0m\u001b[0mmodel\u001b[0m\u001b[1;33m.\u001b[0m\u001b[0mmessages\u001b[0m \u001b[1;32mimport\u001b[0m \u001b[0mMessageType\u001b[0m\u001b[1;33m\u001b[0m\u001b[1;33m\u001b[0m\u001b[0m\n\u001b[1;32m---> 13\u001b[1;33m \u001b[1;32mfrom\u001b[0m \u001b[0mpandas_profiling\u001b[0m\u001b[1;33m.\u001b[0m\u001b[0mreport\u001b[0m \u001b[1;32mimport\u001b[0m \u001b[0mget_report_structure\u001b[0m\u001b[1;33m\u001b[0m\u001b[1;33m\u001b[0m\u001b[0m\n\u001b[0m\u001b[0;32m     14\u001b[0m \u001b[1;32mfrom\u001b[0m \u001b[0mpandas_profiling\u001b[0m\u001b[1;33m.\u001b[0m\u001b[0mserialize\u001b[0m \u001b[1;32mimport\u001b[0m \u001b[0mSerialize\u001b[0m\u001b[1;33m\u001b[0m\u001b[1;33m\u001b[0m\u001b[0m\n\u001b[0;32m     15\u001b[0m \u001b[1;32mfrom\u001b[0m \u001b[0mpandas_profiling\u001b[0m\u001b[1;33m.\u001b[0m\u001b[0mutils\u001b[0m\u001b[1;33m.\u001b[0m\u001b[0mdataframe\u001b[0m \u001b[1;32mimport\u001b[0m \u001b[0mhash_dataframe\u001b[0m\u001b[1;33m,\u001b[0m \u001b[0mrename_index\u001b[0m\u001b[1;33m\u001b[0m\u001b[1;33m\u001b[0m\u001b[0m\n",
      "\u001b[1;32m~\\anaconda3\\lib\\site-packages\\pandas_profiling\\report\\__init__.py\u001b[0m in \u001b[0;36m<module>\u001b[1;34m\u001b[0m\n\u001b[0;32m      1\u001b[0m \u001b[1;34m\"\"\"All functionality concerned with presentation to the user.\"\"\"\u001b[0m\u001b[1;33m\u001b[0m\u001b[1;33m\u001b[0m\u001b[0m\n\u001b[1;32m----> 2\u001b[1;33m \u001b[1;32mfrom\u001b[0m \u001b[0mpandas_profiling\u001b[0m\u001b[1;33m.\u001b[0m\u001b[0mreport\u001b[0m\u001b[1;33m.\u001b[0m\u001b[0mstructure\u001b[0m\u001b[1;33m.\u001b[0m\u001b[0mreport\u001b[0m \u001b[1;32mimport\u001b[0m \u001b[0mget_report_structure\u001b[0m\u001b[1;33m\u001b[0m\u001b[1;33m\u001b[0m\u001b[0m\n\u001b[0m",
      "\u001b[1;32m~\\anaconda3\\lib\\site-packages\\pandas_profiling\\report\\structure\\report.py\u001b[0m in \u001b[0;36m<module>\u001b[1;34m\u001b[0m\n\u001b[0;32m     37\u001b[0m     \u001b[0mget_dataset_warnings\u001b[0m\u001b[1;33m,\u001b[0m\u001b[1;33m\u001b[0m\u001b[1;33m\u001b[0m\u001b[0m\n\u001b[0;32m     38\u001b[0m )\n\u001b[1;32m---> 39\u001b[1;33m from pandas_profiling.report.structure.variables import (\n\u001b[0m\u001b[0;32m     40\u001b[0m     \u001b[0mrender_boolean\u001b[0m\u001b[1;33m,\u001b[0m\u001b[1;33m\u001b[0m\u001b[1;33m\u001b[0m\u001b[0m\n\u001b[0;32m     41\u001b[0m     \u001b[0mrender_categorical\u001b[0m\u001b[1;33m,\u001b[0m\u001b[1;33m\u001b[0m\u001b[1;33m\u001b[0m\u001b[0m\n",
      "\u001b[1;32m~\\anaconda3\\lib\\site-packages\\pandas_profiling\\report\\structure\\variables\\__init__.py\u001b[0m in \u001b[0;36m<module>\u001b[1;34m\u001b[0m\n\u001b[0;32m      5\u001b[0m \u001b[1;32mfrom\u001b[0m \u001b[0mpandas_profiling\u001b[0m\u001b[1;33m.\u001b[0m\u001b[0mreport\u001b[0m\u001b[1;33m.\u001b[0m\u001b[0mstructure\u001b[0m\u001b[1;33m.\u001b[0m\u001b[0mvariables\u001b[0m\u001b[1;33m.\u001b[0m\u001b[0mrender_common\u001b[0m \u001b[1;32mimport\u001b[0m \u001b[0mrender_common\u001b[0m\u001b[1;33m\u001b[0m\u001b[1;33m\u001b[0m\u001b[0m\n\u001b[0;32m      6\u001b[0m \u001b[1;32mfrom\u001b[0m \u001b[0mpandas_profiling\u001b[0m\u001b[1;33m.\u001b[0m\u001b[0mreport\u001b[0m\u001b[1;33m.\u001b[0m\u001b[0mstructure\u001b[0m\u001b[1;33m.\u001b[0m\u001b[0mvariables\u001b[0m\u001b[1;33m.\u001b[0m\u001b[0mrender_complex\u001b[0m \u001b[1;32mimport\u001b[0m \u001b[0mrender_complex\u001b[0m\u001b[1;33m\u001b[0m\u001b[1;33m\u001b[0m\u001b[0m\n\u001b[1;32m----> 7\u001b[1;33m \u001b[1;32mfrom\u001b[0m \u001b[0mpandas_profiling\u001b[0m\u001b[1;33m.\u001b[0m\u001b[0mreport\u001b[0m\u001b[1;33m.\u001b[0m\u001b[0mstructure\u001b[0m\u001b[1;33m.\u001b[0m\u001b[0mvariables\u001b[0m\u001b[1;33m.\u001b[0m\u001b[0mrender_count\u001b[0m \u001b[1;32mimport\u001b[0m \u001b[0mrender_count\u001b[0m\u001b[1;33m\u001b[0m\u001b[1;33m\u001b[0m\u001b[0m\n\u001b[0m\u001b[0;32m      8\u001b[0m \u001b[1;32mfrom\u001b[0m \u001b[0mpandas_profiling\u001b[0m\u001b[1;33m.\u001b[0m\u001b[0mreport\u001b[0m\u001b[1;33m.\u001b[0m\u001b[0mstructure\u001b[0m\u001b[1;33m.\u001b[0m\u001b[0mvariables\u001b[0m\u001b[1;33m.\u001b[0m\u001b[0mrender_date\u001b[0m \u001b[1;32mimport\u001b[0m \u001b[0mrender_date\u001b[0m\u001b[1;33m\u001b[0m\u001b[1;33m\u001b[0m\u001b[0m\n\u001b[0;32m      9\u001b[0m \u001b[1;32mfrom\u001b[0m \u001b[0mpandas_profiling\u001b[0m\u001b[1;33m.\u001b[0m\u001b[0mreport\u001b[0m\u001b[1;33m.\u001b[0m\u001b[0mstructure\u001b[0m\u001b[1;33m.\u001b[0m\u001b[0mvariables\u001b[0m\u001b[1;33m.\u001b[0m\u001b[0mrender_generic\u001b[0m \u001b[1;32mimport\u001b[0m \u001b[0mrender_generic\u001b[0m\u001b[1;33m\u001b[0m\u001b[1;33m\u001b[0m\u001b[0m\n",
      "\u001b[1;32m~\\anaconda3\\lib\\site-packages\\pandas_profiling\\report\\structure\\variables\\render_count.py\u001b[0m in \u001b[0;36m<module>\u001b[1;34m\u001b[0m\n\u001b[0;32m      1\u001b[0m \u001b[1;32mfrom\u001b[0m \u001b[0mpandas_profiling\u001b[0m\u001b[1;33m.\u001b[0m\u001b[0mconfig\u001b[0m \u001b[1;32mimport\u001b[0m \u001b[0mconfig\u001b[0m\u001b[1;33m\u001b[0m\u001b[1;33m\u001b[0m\u001b[0m\n\u001b[1;32m----> 2\u001b[1;33m \u001b[1;32mfrom\u001b[0m \u001b[0mpandas_profiling\u001b[0m\u001b[1;33m.\u001b[0m\u001b[0mreport\u001b[0m\u001b[1;33m.\u001b[0m\u001b[0mformatters\u001b[0m \u001b[1;32mimport\u001b[0m \u001b[0mfmt_array\u001b[0m\u001b[1;33m\u001b[0m\u001b[1;33m\u001b[0m\u001b[0m\n\u001b[0m\u001b[0;32m      3\u001b[0m from pandas_profiling.report.presentation.core import (\n\u001b[0;32m      4\u001b[0m     \u001b[0mContainer\u001b[0m\u001b[1;33m,\u001b[0m\u001b[1;33m\u001b[0m\u001b[1;33m\u001b[0m\u001b[0m\n\u001b[0;32m      5\u001b[0m     \u001b[0mFrequencyTable\u001b[0m\u001b[1;33m,\u001b[0m\u001b[1;33m\u001b[0m\u001b[1;33m\u001b[0m\u001b[0m\n",
      "\u001b[1;32m~\\anaconda3\\lib\\site-packages\\pandas_profiling\\report\\formatters.py\u001b[0m in \u001b[0;36m<module>\u001b[1;34m\u001b[0m\n\u001b[0;32m      3\u001b[0m \u001b[1;33m\u001b[0m\u001b[0m\n\u001b[0;32m      4\u001b[0m \u001b[1;32mimport\u001b[0m \u001b[0mnumpy\u001b[0m \u001b[1;32mas\u001b[0m \u001b[0mnp\u001b[0m\u001b[1;33m\u001b[0m\u001b[1;33m\u001b[0m\u001b[0m\n\u001b[1;32m----> 5\u001b[1;33m \u001b[1;32mfrom\u001b[0m \u001b[0mjinja2\u001b[0m\u001b[1;33m.\u001b[0m\u001b[0mutils\u001b[0m \u001b[1;32mimport\u001b[0m \u001b[0mescape\u001b[0m\u001b[1;33m\u001b[0m\u001b[1;33m\u001b[0m\u001b[0m\n\u001b[0m\u001b[0;32m      6\u001b[0m \u001b[1;33m\u001b[0m\u001b[0m\n\u001b[0;32m      7\u001b[0m \u001b[1;33m\u001b[0m\u001b[0m\n",
      "\u001b[1;31mImportError\u001b[0m: cannot import name 'escape' from 'jinja2.utils' (C:\\Users\\brend\\AppData\\Roaming\\Python\\Python38\\site-packages\\jinja2\\utils.py)"
     ]
    }
   ],
   "source": [
    "from pandas_profiling import ProfileReport"
   ]
  },
  {
   "cell_type": "code",
   "execution_count": null,
   "id": "c97ec396",
   "metadata": {},
   "outputs": [],
   "source": [
    "pip uninstall pandas_profiling"
   ]
  },
  {
   "cell_type": "markdown",
   "id": "924dcc90",
   "metadata": {},
   "source": [
    "## Análisis exploratorio de los datos y preprocesamiento"
   ]
  },
  {
   "cell_type": "markdown",
   "id": "6bd461a9",
   "metadata": {},
   "source": [
    "### Conflicto Armado"
   ]
  },
  {
   "cell_type": "code",
   "execution_count": null,
   "id": "942f60c9",
   "metadata": {},
   "outputs": [],
   "source": [
    "datos_conflicto = pd.read_csv('DatosOriginales/Conflicto Armado.csv', delimiter=',')\n",
    "datos_conflicto.sample(5)"
   ]
  },
  {
   "cell_type": "markdown",
   "id": "3d32bb93",
   "metadata": {},
   "source": [
    "Procedemos a revisar el numeros de filas y columnas:"
   ]
  },
  {
   "cell_type": "code",
   "execution_count": null,
   "id": "323a2666",
   "metadata": {},
   "outputs": [],
   "source": [
    "print(\"Número de filas o datos: {}\".format(len(datos_conflicto)))\n",
    "print(\"Número de columnas o variables: {}\".format(len(datos_conflicto.columns)))"
   ]
  },
  {
   "cell_type": "markdown",
   "id": "f70bb5bf",
   "metadata": {},
   "source": [
    "Para ver una exploración más exhaustiva, hicimos un pandas profiling de los datos que nos fueron entregados:"
   ]
  },
  {
   "cell_type": "code",
   "execution_count": null,
   "id": "516a2c91",
   "metadata": {},
   "outputs": [],
   "source": [
    "profiling = ProfileReport(datos_conflicto)\n",
    "profiling.to_file(output_file=\"pandas_profiling/Conflicto_Armado_profiling.html\")\n",
    "profiling"
   ]
  },
  {
   "cell_type": "markdown",
   "id": "ef2e84be",
   "metadata": {},
   "source": [
    "### Demografía y población"
   ]
  },
  {
   "cell_type": "code",
   "execution_count": null,
   "id": "fe73c40b",
   "metadata": {},
   "outputs": [],
   "source": [
    "datos_demografia = pd.read_csv('DatosOriginales/Conflicto Armado.csv', delimiter=',')\n",
    "datos_demografia.sample(5)"
   ]
  },
  {
   "cell_type": "markdown",
   "id": "4646c709",
   "metadata": {},
   "source": [
    "Procedemos a revisar el numeros de filas y columnas:"
   ]
  },
  {
   "cell_type": "code",
   "execution_count": null,
   "id": "840da23e",
   "metadata": {},
   "outputs": [],
   "source": [
    "print(\"Número de filas o datos: {}\".format(len(datos_demografia)))\n",
    "print(\"Número de columnas o variables: {}\".format(len(datos_demografia.columns)))"
   ]
  },
  {
   "cell_type": "markdown",
   "id": "4cdc4957",
   "metadata": {},
   "source": [
    "Para ver una exploración más exhaustiva, hicimos un pandas profiling de los datos que nos fueron entregados:"
   ]
  },
  {
   "cell_type": "code",
   "execution_count": null,
   "id": "95c14a61",
   "metadata": {},
   "outputs": [],
   "source": [
    "profiling = ProfileReport(datos_demografia)\n",
    "profiling.to_file(output_file=\"pandas_profiling/dimension_city_pandas_profiling.html\")\n",
    "profiling"
   ]
  },
  {
   "cell_type": "code",
   "execution_count": null,
   "id": "4af9b878",
   "metadata": {},
   "outputs": [],
   "source": []
  },
  {
   "cell_type": "markdown",
   "id": "01135cb2",
   "metadata": {},
   "source": [
    "### Educación"
   ]
  },
  {
   "cell_type": "code",
   "execution_count": null,
   "id": "28697fd7",
   "metadata": {},
   "outputs": [],
   "source": [
    "datos_conflicto = pd.read_csv('DatosOriginales/Conflicto Armado.csv', delimiter=',')\n",
    "datos_conflicto.sample(5)"
   ]
  },
  {
   "cell_type": "markdown",
   "id": "78b7fac3",
   "metadata": {},
   "source": [
    "Procedemos a revisar el numeros de filas y columnas:"
   ]
  },
  {
   "cell_type": "code",
   "execution_count": null,
   "id": "d448e9f6",
   "metadata": {},
   "outputs": [],
   "source": [
    "print(\"Número de filas o datos: {}\".format(len(datos_conflicto)))\n",
    "print(\"Número de columnas o variables: {}\".format(len(datos_conflicto.columns)))"
   ]
  },
  {
   "cell_type": "markdown",
   "id": "f7fdd7bc",
   "metadata": {},
   "source": [
    "Para ver una exploración más exhaustiva, hicimos un pandas profiling de los datos que nos fueron entregados:"
   ]
  },
  {
   "cell_type": "code",
   "execution_count": null,
   "id": "9691db24",
   "metadata": {},
   "outputs": [],
   "source": [
    "profiling = ProfileReport(datos_dim_city)\n",
    "profiling.to_file(output_file=\"pandas_profiling/dimension_city_pandas_profiling.html\")\n",
    "profiling"
   ]
  },
  {
   "cell_type": "markdown",
   "id": "d9d7e515",
   "metadata": {},
   "source": [
    "### Medición de desempleo Departamental"
   ]
  },
  {
   "cell_type": "code",
   "execution_count": null,
   "id": "6fd32e76",
   "metadata": {},
   "outputs": [],
   "source": [
    "datos_conflicto = pd.read_csv('DatosOriginales/Conflicto Armado.csv', delimiter=',')\n",
    "datos_conflicto.sample(5)"
   ]
  },
  {
   "cell_type": "markdown",
   "id": "9b9ba705",
   "metadata": {},
   "source": [
    "Procedemos a revisar el numeros de filas y columnas:"
   ]
  },
  {
   "cell_type": "code",
   "execution_count": null,
   "id": "06fda767",
   "metadata": {},
   "outputs": [],
   "source": [
    "print(\"Número de filas o datos: {}\".format(len(datos_conflicto)))\n",
    "print(\"Número de columnas o variables: {}\".format(len(datos_conflicto.columns)))"
   ]
  },
  {
   "cell_type": "markdown",
   "id": "58fae67b",
   "metadata": {},
   "source": [
    "Para ver una exploración más exhaustiva, hicimos un pandas profiling de los datos que nos fueron entregados:"
   ]
  },
  {
   "cell_type": "code",
   "execution_count": null,
   "id": "1b8c0046",
   "metadata": {},
   "outputs": [],
   "source": [
    "profiling = ProfileReport(datos_dim_city)\n",
    "profiling.to_file(output_file=\"pandas_profiling/dimension_city_pandas_profiling.html\")\n",
    "profiling"
   ]
  },
  {
   "cell_type": "markdown",
   "id": "b0530988",
   "metadata": {},
   "source": [
    "### Medición de desempleo Municipal\n"
   ]
  },
  {
   "cell_type": "code",
   "execution_count": null,
   "id": "977940d4",
   "metadata": {},
   "outputs": [],
   "source": [
    "datos_conflicto = pd.read_csv('DatosOriginales/Conflicto Armado.csv', delimiter=',')\n",
    "datos_conflicto.sample(5)"
   ]
  },
  {
   "cell_type": "markdown",
   "id": "4f106afe",
   "metadata": {},
   "source": [
    "Procedemos a revisar el numeros de filas y columnas:"
   ]
  },
  {
   "cell_type": "code",
   "execution_count": null,
   "id": "02d90b4b",
   "metadata": {},
   "outputs": [],
   "source": [
    "print(\"Número de filas o datos: {}\".format(len(datos_conflicto)))\n",
    "print(\"Número de columnas o variables: {}\".format(len(datos_conflicto.columns)))"
   ]
  },
  {
   "cell_type": "markdown",
   "id": "982deccc",
   "metadata": {},
   "source": [
    "Para ver una exploración más exhaustiva, hicimos un pandas profiling de los datos que nos fueron entregados:"
   ]
  },
  {
   "cell_type": "code",
   "execution_count": null,
   "id": "eccbdae3",
   "metadata": {},
   "outputs": [],
   "source": [
    "profiling = ProfileReport(datos_dim_city)\n",
    "profiling.to_file(output_file=\"pandas_profiling/dimension_city_pandas_profiling.html\")\n",
    "profiling"
   ]
  },
  {
   "cell_type": "markdown",
   "id": "c2451ea9",
   "metadata": {},
   "source": [
    "### Salud"
   ]
  },
  {
   "cell_type": "code",
   "execution_count": null,
   "id": "0a80fba2",
   "metadata": {},
   "outputs": [],
   "source": [
    "datos_conflicto = pd.read_csv('DatosOriginales/Conflicto Armado.csv', delimiter=',')\n",
    "datos_conflicto.sample(5)"
   ]
  },
  {
   "cell_type": "markdown",
   "id": "51e94841",
   "metadata": {},
   "source": [
    "Procedemos a revisar el numeros de filas y columnas:"
   ]
  },
  {
   "cell_type": "code",
   "execution_count": null,
   "id": "f111ee4b",
   "metadata": {},
   "outputs": [],
   "source": [
    "print(\"Número de filas o datos: {}\".format(len(datos_conflicto)))\n",
    "print(\"Número de columnas o variables: {}\".format(len(datos_conflicto.columns)))"
   ]
  },
  {
   "cell_type": "markdown",
   "id": "3b4ba199",
   "metadata": {},
   "source": [
    "Para ver una exploración más exhaustiva, hicimos un pandas profiling de los datos que nos fueron entregados:"
   ]
  },
  {
   "cell_type": "code",
   "execution_count": null,
   "id": "a1e73d06",
   "metadata": {},
   "outputs": [],
   "source": [
    "profiling = ProfileReport(datos_dim_city)\n",
    "profiling.to_file(output_file=\"pandas_profiling/dimension_city_pandas_profiling.html\")\n",
    "profiling"
   ]
  },
  {
   "cell_type": "markdown",
   "id": "55a03544",
   "metadata": {},
   "source": [
    "### Vivienda y Servicios Públicos"
   ]
  },
  {
   "cell_type": "code",
   "execution_count": null,
   "id": "8c99a5a2",
   "metadata": {},
   "outputs": [],
   "source": [
    "datos_conflicto = pd.read_csv('DatosOriginales/Conflicto Armado.csv', delimiter=',')\n",
    "datos_conflicto.sample(5)"
   ]
  },
  {
   "cell_type": "markdown",
   "id": "a8dd7dc8",
   "metadata": {},
   "source": [
    "Procedemos a revisar el numeros de filas y columnas:"
   ]
  },
  {
   "cell_type": "code",
   "execution_count": null,
   "id": "1d5437d4",
   "metadata": {},
   "outputs": [],
   "source": [
    "print(\"Número de filas o datos: {}\".format(len(datos_conflicto)))\n",
    "print(\"Número de columnas o variables: {}\".format(len(datos_conflicto.columns)))"
   ]
  },
  {
   "cell_type": "markdown",
   "id": "b8a02760",
   "metadata": {},
   "source": [
    "Para ver una exploración más exhaustiva, hicimos un pandas profiling de los datos que nos fueron entregados:"
   ]
  },
  {
   "cell_type": "code",
   "execution_count": null,
   "id": "46fdc703",
   "metadata": {},
   "outputs": [],
   "source": [
    "profiling = ProfileReport(datos_dim_city)\n",
    "profiling.to_file(output_file=\"pandas_profiling/dimension_city_pandas_profiling.html\")\n",
    "profiling"
   ]
  },
  {
   "cell_type": "markdown",
   "id": "daf5fc7a",
   "metadata": {},
   "source": []
  },
  {
   "cell_type": "code",
   "execution_count": null,
   "id": "d025406c",
   "metadata": {},
   "outputs": [],
   "source": []
  },
  {
   "cell_type": "markdown",
   "id": "8e019c38",
   "metadata": {},
   "source": [
    "## Preprocesamiento de los datos"
   ]
  },
  {
   "cell_type": "markdown",
   "id": "ad71b45f",
   "metadata": {},
   "source": [
    "### Conflicto armado"
   ]
  },
  {
   "cell_type": "markdown",
   "id": "23d28d33",
   "metadata": {},
   "source": [
    "### Demografía y población"
   ]
  },
  {
   "cell_type": "markdown",
   "id": "6243435d",
   "metadata": {},
   "source": [
    "### Educación"
   ]
  },
  {
   "cell_type": "markdown",
   "id": "f2d0d16e",
   "metadata": {},
   "source": [
    "### Medición de desempleo Departamental"
   ]
  },
  {
   "cell_type": "markdown",
   "id": "c0fd645c",
   "metadata": {},
   "source": [
    "### Medición de desempleo Municipal\n"
   ]
  },
  {
   "cell_type": "markdown",
   "id": "4ae1c300",
   "metadata": {},
   "source": [
    "### Salud"
   ]
  },
  {
   "cell_type": "markdown",
   "id": "5e06b610",
   "metadata": {},
   "source": [
    "### Vivienda y Servicios Públicos"
   ]
  },
  {
   "cell_type": "code",
   "execution_count": null,
   "id": "d819ede9",
   "metadata": {},
   "outputs": [],
   "source": []
  }
 ],
 "metadata": {
  "kernelspec": {
   "display_name": "Python 3",
   "language": "python",
   "name": "python3"
  },
  "language_info": {
   "codemirror_mode": {
    "name": "ipython",
    "version": 3
   },
   "file_extension": ".py",
   "mimetype": "text/x-python",
   "name": "python",
   "nbconvert_exporter": "python",
   "pygments_lexer": "ipython3",
   "version": "3.8.8"
  },
  "toc": {
   "base_numbering": 1,
   "nav_menu": {},
   "number_sections": true,
   "sideBar": true,
   "skip_h1_title": false,
   "title_cell": "Table of Contents",
   "title_sidebar": "Contents",
   "toc_cell": false,
   "toc_position": {
    "height": "calc(100% - 180px)",
    "left": "10px",
    "top": "150px",
    "width": "165px"
   },
   "toc_section_display": true,
   "toc_window_display": true
  },
  "varInspector": {
   "cols": {
    "lenName": 16,
    "lenType": 16,
    "lenVar": 40
   },
   "kernels_config": {
    "python": {
     "delete_cmd_postfix": "",
     "delete_cmd_prefix": "del ",
     "library": "var_list.py",
     "varRefreshCmd": "print(var_dic_list())"
    },
    "r": {
     "delete_cmd_postfix": ") ",
     "delete_cmd_prefix": "rm(",
     "library": "var_list.r",
     "varRefreshCmd": "cat(var_dic_list()) "
    }
   },
   "types_to_exclude": [
    "module",
    "function",
    "builtin_function_or_method",
    "instance",
    "_Feature"
   ],
   "window_display": false
  }
 },
 "nbformat": 4,
 "nbformat_minor": 5
}
